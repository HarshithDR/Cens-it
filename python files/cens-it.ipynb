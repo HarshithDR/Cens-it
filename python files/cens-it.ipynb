{
  "nbformat": 4,
  "nbformat_minor": 0,
  "metadata": {
    "colab": {
      "name": "hackbites.ipynb",
      "provenance": [],
      "collapsed_sections": []
    },
    "kernelspec": {
      "name": "python3",
      "display_name": "Python 3"
    },
    "language_info": {
      "name": "python"
    },
    "accelerator": "TPU"
  },
  "cells": [
    {
      "cell_type": "code",
      "execution_count": 14,
      "metadata": {
        "id": "IjDOFU-TxxAR"
      },
      "outputs": [],
      "source": [
        "#importing libraries\n",
        "\n",
        "# For Data Processing & ML Models\n",
        "import numpy as np\n",
        "from sklearn.utils import shuffle\n",
        "from sklearn.model_selection import train_test_split\n",
        "from sklearn.metrics import classification_report\n",
        "from sklearn.metrics import confusion_matrix as cm\n",
        "from tensorflow import keras\n",
        "from tensorflow.keras.layers import *\n",
        "from tensorflow.keras.losses import *\n",
        "from tensorflow.keras.models import *\n",
        "from tensorflow.keras.metrics import *\n",
        "from tensorflow.keras.optimizers import *\n",
        "from tensorflow.keras.applications import *\n",
        "from tensorflow.keras.preprocessing.image import load_img\n",
        "from PIL import Image, ImageEnhance\n",
        "\n",
        "# For Data Visualization\n",
        "import matplotlib.pyplot as plt\n",
        "import seaborn as sns\n",
        "\n",
        "# Miscellaneous\n",
        "# from tqdm import tqdm\n",
        "import os\n",
        "import random"
      ]
    },
    {
      "cell_type": "code",
      "source": [
        "# Data exploring\n",
        "\n",
        "data_dir = '/content/drive/MyDrive/hdata/'"
      ],
      "metadata": {
        "id": "IimMRlwfx_nv"
      },
      "execution_count": 15,
      "outputs": []
    },
    {
      "cell_type": "code",
      "source": [
        ""
      ],
      "metadata": {
        "id": "dkg-wvn_I-cJ"
      },
      "execution_count": 15,
      "outputs": []
    },
    {
      "cell_type": "code",
      "source": [
        "all_paths = []\n",
        "all_labels = []\n",
        "\n",
        "for label in os.listdir(data_dir):\n",
        "    for image in os.listdir(data_dir+label):\n",
        "        all_paths.append(data_dir+label+'/'+image)\n",
        "        all_labels.append(label)\n",
        "\n",
        "all_paths, all_labels = shuffle(all_paths, all_labels)\n",
        "# ['normal','notnormal','violence']"
      ],
      "metadata": {
        "id": "u3rpIIS0qAan"
      },
      "execution_count": 16,
      "outputs": []
    },
    {
      "cell_type": "code",
      "source": [
        "plt.figure(figsize=(14,6))\n",
        "colors = [\"#9D61C8\", \"#B799CB\", \"#ae7cd1\"]\n",
        "plt.pie([len([x for x in all_labels if x=='normal']),\n",
        "         len([x for x in all_labels if x=='notnormal']),\n",
        "         len([x for x in all_labels if x=='violence'])],\n",
        "        labels=['normal','notnormal','violence'],\n",
        "        colors=colors, autopct='%.1f%%', explode=(0.025,0.025,0.025),\n",
        "        startangle=45);"
      ],
      "metadata": {
        "colab": {
          "base_uri": "https://localhost:8080/",
          "height": 357
        },
        "id": "M30cv7wcqNDi",
        "outputId": "c68a1ec6-209c-4643-b35e-473b43a400ff"
      },
      "execution_count": 17,
      "outputs": [
        {
          "output_type": "display_data",
          "data": {
            "text/plain": [
              "<Figure size 1008x432 with 1 Axes>"
            ],
            "image/png": "[encoded data removed]"
          },
          "metadata": {}
        }
      ]
    },
    {
      "cell_type": "code",
      "source": [
        "#Splitting dataset\n",
        "# 80% - train data \n",
        "# 20% - test data or validation data\n",
        "\n",
        "x_train, x_val, y_train, y_val = train_test_split(all_paths, all_labels, test_size=0.2, random_state=42)"
      ],
      "metadata": {
        "id": "ul_zpZA3q8rZ"
      },
      "execution_count": 18,
      "outputs": []
    },
    {
      "cell_type": "code",
      "source": [
        "# ['dandelion','daisy', 'sunflower', 'tulip', 'rose'] \n",
        "plt.figure(figsize=(15, 6))\n",
        "sns.barplot(x=[len([x for x in y_train if x=='normal']),\n",
        "               len([x for x in y_train if x=='notnormal']),\n",
        "               len([x for x in y_train if x=='violence']),\n",
        "               len([x for x in y_val if x=='normal']),\n",
        "               len([x for x in y_val if x=='notnormal']),\n",
        "               len([x for x in y_val if x=='violence'])],\n",
        "            y=['normal -Train',\n",
        "               'notnormal -Train',\n",
        "               'violence -Train',\n",
        "               'normal -Val',\n",
        "               'notnormal -Val',\n",
        "               'violence -Val',\n",
        "],\n",
        "           palette = sns.light_palette(\"#9D61C8\", reverse = True, n_colors = int(19 * 1.2)))\n",
        "plt.show()"
      ],
      "metadata": {
        "colab": {
          "base_uri": "https://localhost:8080/",
          "height": 374
        },
        "id": "4x0wCF8-rFio",
        "outputId": "089b4110-8c07-42e8-b055-436639c7fecc"
      },
      "execution_count": 19,
      "outputs": [
        {
          "output_type": "display_data",
          "data": {
            "text/plain": [
              "<Figure size 1080x432 with 1 Axes>"
            ],
            "image/png": "[encoded data removed]"
          },
          "metadata": {
            "needs_background": "light"
          }
        }
      ]
    },
    {
      "cell_type": "code",
      "source": [
        "#Data augmentation\n",
        "\n",
        "# Random brightness: 60%- 140%\n",
        "# Random contrast: 60%- 140%\n",
        "# Random saturation: 60%- 140%\n",
        "# horizontal flip\n",
        "\n",
        "IMAGE_SIZE = 200\n",
        "\n",
        "def augment_image(image):\n",
        "    if random.uniform(0,1)>0.5:\n",
        "        image = np.fliplr(image)\n",
        "    image = Image.fromarray(np.uint8(image))\n",
        "    image = ImageEnhance.Brightness(image).enhance(random.uniform(0.6,1.4))\n",
        "    image = ImageEnhance.Contrast(image).enhance(random.uniform(0.6,1.4))\n",
        "    image = ImageEnhance.Color(image).enhance(random.uniform(0.6,1.4))\n",
        "    return image\n",
        "\n",
        "def open_images(paths, augment=True):\n",
        "    images = []\n",
        "    for path in paths:\n",
        "        image = load_img(path, target_size=(IMAGE_SIZE,IMAGE_SIZE))\n",
        "        image = np.array(image)\n",
        "        if augment:\n",
        "            image = augment_image(image)\n",
        "        image = np.array(image)/255.0\n",
        "        images.append(image)\n",
        "    return np.array(images)"
      ],
      "metadata": {
        "id": "Ek404UdbrlGP"
      },
      "execution_count": 20,
      "outputs": []
    },
    {
      "cell_type": "code",
      "source": [
        "#Data Generation\n",
        "\n",
        "unique_labels = os.listdir(data_dir)\n",
        "\n",
        "#labels encoding \n",
        "\n",
        "def encode_label(labels):\n",
        "    encoded = []\n",
        "    for x in labels:\n",
        "        encoded.append(unique_labels.index(x))\n",
        "    return np.array(encoded)\n",
        "\n",
        "def decode_label(labels):\n",
        "    decoded = []\n",
        "    for x in labels:\n",
        "        decoded.append(unique_labels[x])\n",
        "    return np.array(decoded)\n",
        "\n",
        "def data_gen(paths, labels, batch_size=12, epochs=3, augment=True):\n",
        "    for _ in range(epochs):\n",
        "        for x in range(0, len(paths), batch_size):\n",
        "            batch_paths = paths[x:x+batch_size]\n",
        "            batch_images = open_images(batch_paths, augment=augment)\n",
        "            batch_labels = labels[x:x+batch_size]\n",
        "            batch_labels = encode_label(batch_labels)\n",
        "            yield batch_images, batch_labels"
      ],
      "metadata": {
        "id": "PPqCiunGrp7A"
      },
      "execution_count": 21,
      "outputs": []
    },
    {
      "cell_type": "code",
      "source": [
        "#Model\n",
        "\n",
        "base_model = VGG16(input_shape=(IMAGE_SIZE, IMAGE_SIZE, 3), weights='imagenet', include_top=False)\n",
        "for layer in base_model.layers:\n",
        "    layer.trainable = False\n",
        "base_model.layers[-2].trainable = True\n",
        "base_model.layers[-3].trainable = True\n",
        "base_model.layers[-4].trainable = True"
      ],
      "metadata": {
        "id": "aZGrvztjsK1P"
      },
      "execution_count": 22,
      "outputs": []
    },
    {
      "cell_type": "code",
      "source": [
        "model = Sequential()\n",
        "model.add(Input(shape=(IMAGE_SIZE,IMAGE_SIZE,3)))\n",
        "model.add(base_model)\n",
        "model.add(Flatten())\n",
        "model.add(Dropout(0.3))\n",
        "model.add(Dense(512, activation='relu'))\n",
        "model.add(Dropout(0.25))\n",
        "model.add(Dense(256, activation='relu'))\n",
        "model.add(Dropout(0.25))\n",
        "model.add(Dense(len(unique_labels), activation='softmax'))\n",
        "\n",
        "model.summary()"
      ],
      "metadata": {
        "id": "ySWoPD05sNmN",
        "colab": {
          "base_uri": "https://localhost:8080/"
        },
        "outputId": "c0bfce46-e224-46ba-8935-12c30296a4c5"
      },
      "execution_count": 23,
      "outputs": [
        {
          "output_type": "stream",
          "name": "stdout",
          "text": [
            "Model: \"sequential_1\"\n",
            "_________________________________________________________________\n",
            " Layer (type)                Output Shape              Param #   \n",
            "=================================================================\n",
            " vgg16 (Functional)          (None, 6, 6, 512)         14714688  \n",
            "                                                                 \n",
            " flatten_1 (Flatten)         (None, 18432)             0         \n",
            "                                                                 \n",
            " dropout_3 (Dropout)         (None, 18432)             0         \n",
            "                                                                 \n",
            " dense_3 (Dense)             (None, 512)               9437696   \n",
            "                                                                 \n",
            " dropout_4 (Dropout)         (None, 512)               0         \n",
            "                                                                 \n",
            " dense_4 (Dense)             (None, 256)               131328    \n",
            "                                                                 \n",
            " dropout_5 (Dropout)         (None, 256)               0         \n",
            "                                                                 \n",
            " dense_5 (Dense)             (None, 3)                 771       \n",
            "                                                                 \n",
            "=================================================================\n",
            "Total params: 24,284,483\n",
            "Trainable params: 16,649,219\n",
            "Non-trainable params: 7,635,264\n",
            "_________________________________________________________________\n"
          ]
        }
      ]
    },
    {
      "cell_type": "code",
      "source": [
        "model.compile(optimizer=Adam(learning_rate=0.000175),\n",
        "              loss='sparse_categorical_crossentropy',\n",
        "              metrics=['sparse_categorical_accuracy'])"
      ],
      "metadata": {
        "id": "pr9EHXsLsQbK"
      },
      "execution_count": 24,
      "outputs": []
    },
    {
      "cell_type": "code",
      "source": [
        "# Model Training\n",
        "\n",
        "batch_size = 32\n",
        "steps = int(len(x_train)/batch_size)\n",
        "epochs = 20\n",
        "history = model.fit(data_gen(x_train, y_train, batch_size=batch_size, epochs=epochs, augment=True),\n",
        "                    epochs=epochs, steps_per_epoch=steps)"
      ],
      "metadata": {
        "id": "YiFbR4ldsTTC",
        "colab": {
          "base_uri": "https://localhost:8080/"
        },
        "outputId": "61b9893f-77cf-4a79-b10a-a4a1fe503d7e"
      },
      "execution_count": null,
      "outputs": [
        {
          "output_type": "stream",
          "name": "stdout",
          "text": [
            "Epoch 1/20\n",
            "  9/112 [=>............................] - ETA: 31:40 - loss: 1.1948 - sparse_categorical_accuracy: 0.4653"
          ]
        }
      ]
    },
    {
      "cell_type": "code",
      "source": [
        "# Accuracy vs loss graph\n",
        "\n",
        "plt.figure(figsize=(8,4))\n",
        "plt.grid(True)\n",
        "plt.plot(history.history['sparse_categorical_accuracy'], '.g-', linewidth=2)\n",
        "plt.plot(history.history['loss'], '.r-', linewidth=2)\n",
        "plt.title('Model Training History')\n",
        "plt.xlabel('epoch')\n",
        "plt.xticks([x for x in range(epochs)])\n",
        "plt.legend(['Accuracy', 'Loss'], loc='upper left', bbox_to_anchor=(1, 1))\n",
        "plt.show()"
      ],
      "metadata": {
        "id": "NnEV7m36sV2V"
      },
      "execution_count": null,
      "outputs": []
    },
    {
      "cell_type": "code",
      "source": [
        "# Model evalution\n",
        "from tqdm import tqdm\n",
        "batch_size=32\n",
        "steps = int(len(x_val)/batch_size)\n",
        "y_pred = []\n",
        "y_true = []\n",
        "for x,y in tqdm(data_gen(x_val, y_val, batch_size=batch_size, epochs=1, augment=False), total=steps):\n",
        "    pred = model.predict(x)\n",
        "    pred = np.argmax(pred, axis=-1)\n",
        "    for i in decode_label(pred):\n",
        "        y_pred.append(i)\n",
        "    for i in decode_label(y):\n",
        "        y_true.append(i)"
      ],
      "metadata": {
        "id": "81hsiRIDsYZT"
      },
      "execution_count": null,
      "outputs": []
    },
    {
      "cell_type": "code",
      "source": [
        "print(classification_report(y_true, y_pred))"
      ],
      "metadata": {
        "id": "YNwY-1-ksa4f"
      },
      "execution_count": null,
      "outputs": []
    }
  ]
}